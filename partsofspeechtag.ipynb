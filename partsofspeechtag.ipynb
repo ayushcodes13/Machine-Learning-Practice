{
 "cells": [
  {
   "cell_type": "markdown",
   "metadata": {},
   "source": [
    "part of speech - every word is either an adjecctive, verb, noun or other [Grammatical Words]"
   ]
  },
  {
   "cell_type": "code",
   "execution_count": null,
   "metadata": {},
   "outputs": [],
   "source": [
    "paragraph = ''' am delighted to be here with you today. I always believe that young minds like yours hold the power to shape the future of our nation. I want to share a simple yet powerful message with you today—Dream, Work Hard, and Achieve.\n",
    "\n",
    "I have often said, \"Dream, dream, dream. Dreams transform into thoughts, and thoughts result in action.\" But dreaming alone is not enough. Dreams should be accompanied by hard work, perseverance, and a never-give-up attitude. Every great achievement in history started with a dream and the courage to pursue it.\n",
    "\n",
    "When I was working on the development of India’s missile technology, there were many failures. But failure is never the end; it is a stepping stone to success. If you learn from failure, you will emerge stronger. As I always say, \"If you want to shine like the sun, first burn like the sun.\"\n",
    "\n",
    "Young friends, I urge you to take responsibility for your future. Develop a spirit of inquiry, ask questions, innovate, and contribute to society. The future of India lies in your hands. Work with integrity, discipline, and dedication. Never stop learning, and never stop growing.\n",
    "\n",
    "As you move forward, always remember, \"Thinking is progress. Non-thinking is stagnation. Knowledge is power. Ignorance is slavery.\"\n",
    "\n",
    "Let your dreams be big, your vision clear, and your actions bold. The world needs leaders who dream and work hard to make those dreams a reality.\n",
    "\n",
    "Go ahead, take challenges head-on, and make India proud!\n",
    "\n",
    "Thank you!\n",
    "\n",
    "'''"
   ]
  }
 ],
 "metadata": {
  "kernelspec": {
   "display_name": "myenv",
   "language": "python",
   "name": "python3"
  },
  "language_info": {
   "name": "python",
   "version": "3.9.6"
  }
 },
 "nbformat": 4,
 "nbformat_minor": 2
}
