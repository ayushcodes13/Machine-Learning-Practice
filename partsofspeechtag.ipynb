{
 "cells": [
  {
   "cell_type": "markdown",
   "metadata": {},
   "source": [
    "part of speech - every word is either an adjecctive, verb, noun or other [Grammatical Words]"
   ]
  },
  {
   "cell_type": "markdown",
   "metadata": {},
   "source": []
  }
 ],
 "metadata": {
  "language_info": {
   "name": "python"
  }
 },
 "nbformat": 4,
 "nbformat_minor": 2
}
