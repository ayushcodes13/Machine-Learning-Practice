{
 "cells": [
  {
   "cell_type": "markdown",
   "metadata": {},
   "source": [
    "stopwords - common words that are repeated very frquently"
   ]
  },
  {
   "cell_type": "code",
   "execution_count": 51,
   "metadata": {},
   "outputs": [
    {
     "name": "stderr",
     "output_type": "stream",
     "text": [
      "[nltk_data] Downloading package stopwords to\n",
      "[nltk_data]     /Users/devayushrout/nltk_data...\n",
      "[nltk_data]   Package stopwords is already up-to-date!\n"
     ]
    },
    {
     "data": {
      "text/plain": [
       "True"
      ]
     },
     "execution_count": 51,
     "metadata": {},
     "output_type": "execute_result"
    }
   ],
   "source": [
    "import nltk\n",
    "nltk.download('stopwords')"
   ]
  },
  {
   "cell_type": "code",
   "execution_count": 52,
   "metadata": {},
   "outputs": [],
   "source": [
    "paragraph = '''Dr. APJ Abdul Kalam once said, \"Dream, dream, dream. Dreams transform into thoughts, and thoughts result in action.\" He believed that each of us has the potential to achieve greatness through hard work, perseverance, and knowledge. He inspired millions to think beyond limits, embrace failures as lessons, and contribute to the nation’s progress.\n",
    "Let us ignite our minds with curiosity, work with integrity, and serve with purpose. The future belongs to those who dare to dream and work for it. As Dr. Kalam said, \"You have to dream before your dreams can come true.\"\n",
    "Thank you!'''"
   ]
  },
  {
   "cell_type": "code",
   "execution_count": 53,
   "metadata": {},
   "outputs": [],
   "source": [
    "from nltk.stem import SnowballStemmer"
   ]
  },
  {
   "cell_type": "code",
   "execution_count": 54,
   "metadata": {},
   "outputs": [],
   "source": [
    "from nltk.corpus import stopwords"
   ]
  },
  {
   "cell_type": "code",
   "execution_count": 55,
   "metadata": {},
   "outputs": [],
   "source": [
    "stopwords.words = ('english')"
   ]
  },
  {
   "cell_type": "code",
   "execution_count": 56,
   "metadata": {},
   "outputs": [],
   "source": [
    "from nltk.tokenize import sent_tokenize\n",
    "sentences = nltk.sent_tokenize(paragraph)"
   ]
  },
  {
   "cell_type": "code",
   "execution_count": 57,
   "metadata": {},
   "outputs": [],
   "source": [
    "# Apply stopwords and filter and then apply stemming\n",
    "\n",
    "for i in range(len(sentences)):\n",
    "    words = nltk.word_tokenize(sentences[i])\n",
    "    words = [stemmer.stem(word) for word in words if word not in set('english')]\n",
    "    sentences[i] = ' '.join(words)"
   ]
  },
  {
   "cell_type": "code",
   "execution_count": 58,
   "metadata": {},
   "outputs": [
    {
     "data": {
      "text/plain": [
       "['dr. apj abdul kalam onc said , `` dream , dream , dream .',\n",
       " \"dream transform into thought , and thought result in action . ''\",\n",
       " 'he believ that each of us ha the potenti to achiev great through hard work , persever , and knowledg .',\n",
       " 'he inspir million to think beyond limit , embrac failur as lesson , and contribut to the nation ’ progress .',\n",
       " 'let us ignit our mind with curios , work with integr , and serv with purpos .',\n",
       " 'the futur belong to those who dare to dream and work for it .',\n",
       " \"as dr. kalam said , `` you have to dream befor your dream can come true . ''\",\n",
       " 'thank you !']"
      ]
     },
     "execution_count": 58,
     "metadata": {},
     "output_type": "execute_result"
    }
   ],
   "source": [
    "sentences"
   ]
  },
  {
   "cell_type": "code",
   "execution_count": 59,
   "metadata": {},
   "outputs": [],
   "source": [
    "from nltk.stem import SnowballStemmer\n",
    "snowball_stemmer = SnowballStemmer('english')"
   ]
  },
  {
   "cell_type": "code",
   "execution_count": 60,
   "metadata": {},
   "outputs": [],
   "source": [
    "# Apply stopwords and filter and then apply Snowball stemming\n",
    "\n",
    "for i in range(len(sentences)):\n",
    "    words = nltk.word_tokenize(sentences[i])\n",
    "    words = [snowball_stemmer.stem(word) for word in words if word not in set('english')]\n",
    "    sentences[i] = ' '.join(words)"
   ]
  },
  {
   "cell_type": "code",
   "execution_count": 61,
   "metadata": {},
   "outputs": [
    {
     "data": {
      "text/plain": [
       "['dr. apj abdul kalam onc said , `` dream , dream , dream .',\n",
       " 'dream transform into thought , and thought result in action . ``',\n",
       " 'he believ that each of us ha the potenti to achiev great through hard work , persev , and knowledg .',\n",
       " 'he inspir million to think beyond limit , embrac failur as lesson , and contribut to the nation ’ progress .',\n",
       " 'let us ignit our mind with curio , work with integr , and serv with purpo .',\n",
       " 'the futur belong to those who dare to dream and work for it .',\n",
       " 'as dr. kalam said , `` you have to dream befor your dream can come true . ``',\n",
       " 'thank you !']"
      ]
     },
     "execution_count": 61,
     "metadata": {},
     "output_type": "execute_result"
    }
   ],
   "source": [
    "sentences"
   ]
  }
 ],
 "metadata": {
  "kernelspec": {
   "display_name": "myenv",
   "language": "python",
   "name": "python3"
  },
  "language_info": {
   "codemirror_mode": {
    "name": "ipython",
    "version": 3
   },
   "file_extension": ".py",
   "mimetype": "text/x-python",
   "name": "python",
   "nbconvert_exporter": "python",
   "pygments_lexer": "ipython3",
   "version": "3.9.6"
  }
 },
 "nbformat": 4,
 "nbformat_minor": 2
}
